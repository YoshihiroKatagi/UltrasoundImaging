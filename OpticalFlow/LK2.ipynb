{
 "cells": [
  {
   "cell_type": "code",
   "execution_count": 6,
   "metadata": {},
   "outputs": [
    {
     "name": "stdout",
     "output_type": "stream",
     "text": [
      "359\n"
     ]
    }
   ],
   "source": [
    "import cv2\n",
    "\n",
    "COUNT = 500\n",
    "cnt = 0\n",
    "\n",
    "criteria = (cv2.TERM_CRITERIA_MAX_ITER | cv2.TERM_CRITERIA_EPS, 20, 0.03)\n",
    "\n",
    "lk_params = dict(winSize=(10,10), maxLevel=4, criteria=criteria)\n",
    "cap = cv2.VideoCapture(\"movie/usImage1.mp4\")\n",
    "ret, frame = cap.read()\n",
    "frame_pre = cv2.cvtColor(frame, cv2.COLOR_BGR2GRAY)\n",
    "while True:\n",
    "  ret, frame = cap.read()\n",
    "  if ret == False:\n",
    "    break\n",
    "  frame_now = cv2.cvtColor(frame, cv2.COLOR_BGR2GRAY)\n",
    "\n",
    "  feature_pre = cv2.goodFeaturesToTrack(frame_pre, COUNT, 0.001, 5)\n",
    "  if feature_pre is None:\n",
    "    continue\n",
    "  feature_now, status, err = cv2.calcOpticalFlowPyrLK(frame_pre, frame_now, feature_pre, None, **lk_params)\n",
    "  for i in range(len(feature_now)):\n",
    "    pre_x = int(feature_pre[i][0][0])\n",
    "    pre_y = int(feature_pre[i][0][1])\n",
    "    now_x = int(feature_now[i][0][0])\n",
    "    now_y = int(feature_now[i][0][1])\n",
    "    cv2.line(frame, (pre_x, pre_y), (now_x, now_y), (255,0,0), 3)\n",
    "  cv2.imshow(\"img\", frame)\n",
    "  cnt += 1\n",
    "  frame_pre = frame_now.copy()\n",
    "  key = cv2.waitKey(30)\n",
    "  if key == 27:\n",
    "    break\n",
    "cv2.destroyAllWindows()\n",
    "print(cnt)"
   ]
  },
  {
   "cell_type": "code",
   "execution_count": null,
   "metadata": {},
   "outputs": [],
   "source": []
  }
 ],
 "metadata": {
  "interpreter": {
   "hash": "8dfb4e20c90e78e714cbc030135bda00556e9ba7dc893fd1a1911c47885388d4"
  },
  "kernelspec": {
   "display_name": "Python 3.7.11 64-bit ('OpenCV': conda)",
   "name": "python3"
  },
  "language_info": {
   "codemirror_mode": {
    "name": "ipython",
    "version": 3
   },
   "file_extension": ".py",
   "mimetype": "text/x-python",
   "name": "python",
   "nbconvert_exporter": "python",
   "pygments_lexer": "ipython3",
   "version": "3.7.11"
  },
  "orig_nbformat": 4
 },
 "nbformat": 4,
 "nbformat_minor": 2
}
