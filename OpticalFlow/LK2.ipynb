{
 "cells": [
  {
   "cell_type": "code",
   "execution_count": 16,
   "metadata": {},
   "outputs": [],
   "source": [
    "### moviepy を用いてトリミング（エラーのため断念）####\n",
    "# from moviepy.editor import *\n",
    "\n",
    "# file_path = \"movie/usImage1.mp4\"\n",
    "# X_start = 100\n",
    "# Y_start = 100\n",
    "# X_length = 500\n",
    "# Y_length = 500\n",
    "# save_path = \"movie/usImage1_trim.mp4\"\n",
    "# video = (VideoFileClip(file_path).crop(x1=X_start, y1=Y_start, x2=X_length, y2=Y_length))\n",
    "# video.write_videofile(save_path, fps=29)"
   ]
  },
  {
   "cell_type": "code",
   "execution_count": 17,
   "metadata": {},
   "outputs": [
    {
     "name": "stdout",
     "output_type": "stream",
     "text": [
      "480 640 (640, 480) 360 12\n"
     ]
    }
   ],
   "source": [
    "#動画を１フレームずつ読み込み切り取り処理、その後再度動画化\n",
    "\n",
    "import cv2\n",
    "\n",
    "file_path = \"movie/usImage1.mp4\"\n",
    "video = cv2.VideoCapture(file_path)\n",
    "\n",
    "#properties\n",
    "height = int(video.get(cv2.CAP_PROP_FRAME_HEIGHT))\n",
    "width = int(video.get(cv2.CAP_PROP_FRAME_WIDTH))\n",
    "size = (width, height)\n",
    "frame_count = int(video.get(cv2.CAP_PROP_FRAME_COUNT))\n",
    "frame_rate = int(video.get(cv2.CAP_PROP_FPS))\n",
    "\n",
    "print(height, width, size, frame_count, frame_rate)\n",
    "\n",
    "fmt = cv2.VideoWriter_fourcc('m', 'p', '4', 'v')\n",
    "save = cv2.VideoWriter('movie/usImage_trim.mp4', fmt, frame_rate, size)\n",
    "\n",
    "for i in range(frame_count):\n",
    "  ret, frame = video.read()\n",
    "  if ret==True:\n",
    "    ### 処理 ###\n",
    "    frame = frame[30:420,155:530]\n",
    "    ############\n",
    "    frame = cv2.resize(frame,(640,480))\n",
    "    save.write(frame)\n",
    "    cv2.imshow(\"img\", frame)\n",
    "    if cv2.waitKey(30)==27:\n",
    "      break\n",
    "\n",
    "save.release()\n",
    "# video.release()\n",
    "cv2.destroyAllWindows()"
   ]
  },
  {
   "cell_type": "code",
   "execution_count": 19,
   "metadata": {},
   "outputs": [
    {
     "name": "stdout",
     "output_type": "stream",
     "text": [
      "480 640 (640, 480) 360 12\n"
     ]
    }
   ],
   "source": [
    "COUNT = 100\n",
    "criteria = (cv2.TERM_CRITERIA_MAX_ITER | cv2.TERM_CRITERIA_EPS, 20, 0.03)\n",
    "\n",
    "lk_params = dict(winSize=(10,10), maxLevel=4, criteria=criteria)\n",
    "cap = cv2.VideoCapture('movie/usImage_trim.mp4')\n",
    "#properties\n",
    "height = int(cap.get(cv2.CAP_PROP_FRAME_HEIGHT))\n",
    "width = int(cap.get(cv2.CAP_PROP_FRAME_WIDTH))\n",
    "size = (width, height)\n",
    "frame_count = int(cap.get(cv2.CAP_PROP_FRAME_COUNT))\n",
    "frame_rate = int(cap.get(cv2.CAP_PROP_FPS))\n",
    "print(height, width, size, frame_count, frame_rate)\n",
    "\n",
    "fmt = cv2.VideoWriter_fourcc('m', 'p', '4', 'v')\n",
    "save = cv2.VideoWriter('movie/usImage_flow2.mp4', fmt, frame_rate, size)\n",
    "\n",
    "ret, frame = cap.read()\n",
    "# print(ret, type(frame))\n",
    "frame_pre = cv2.cvtColor(frame, cv2.COLOR_BGR2GRAY)\n",
    "while True:\n",
    "  ret, frame = cap.read()\n",
    "  if ret == False:\n",
    "    break\n",
    "  frame_now = cv2.cvtColor(frame, cv2.COLOR_BGR2GRAY)\n",
    "\n",
    "  feature_pre = cv2.goodFeaturesToTrack(frame_pre, COUNT, 0.001, 5)\n",
    "  if feature_pre is None:\n",
    "    continue\n",
    "  feature_now, status, err = cv2.calcOpticalFlowPyrLK(frame_pre, frame_now, feature_pre, None, **lk_params)\n",
    "  for i in range(len(feature_now)):\n",
    "    pre_x = int(feature_pre[i][0][0])\n",
    "    pre_y = int(feature_pre[i][0][1])\n",
    "    now_x = int(feature_now[i][0][0])\n",
    "    now_y = int(feature_now[i][0][1])\n",
    "    cv2.line(frame, (pre_x, pre_y), (now_x, now_y), (255,0,0), 3)\n",
    "  cv2.imshow(\"img\", frame)\n",
    "  save.write(frame)\n",
    "  frame_pre = frame_now.copy()\n",
    "  key = cv2.waitKey(30)\n",
    "  if key == 27:\n",
    "    break\n",
    "\n",
    "save.release()\n",
    "cv2.destroyAllWindows()"
   ]
  },
  {
   "cell_type": "code",
   "execution_count": null,
   "metadata": {},
   "outputs": [],
   "source": []
  }
 ],
 "metadata": {
  "interpreter": {
   "hash": "8dfb4e20c90e78e714cbc030135bda00556e9ba7dc893fd1a1911c47885388d4"
  },
  "kernelspec": {
   "display_name": "Python 3.7.11 64-bit ('OpenCV': conda)",
   "name": "python3"
  },
  "language_info": {
   "codemirror_mode": {
    "name": "ipython",
    "version": 3
   },
   "file_extension": ".py",
   "mimetype": "text/x-python",
   "name": "python",
   "nbconvert_exporter": "python",
   "pygments_lexer": "ipython3",
   "version": "3.7.11"
  },
  "orig_nbformat": 4
 },
 "nbformat": 4,
 "nbformat_minor": 2
}
