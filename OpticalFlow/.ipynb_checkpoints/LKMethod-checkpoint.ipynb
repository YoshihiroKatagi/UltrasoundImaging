{
 "cells": [
  {
   "cell_type": "code",
   "execution_count": 1,
   "source": [
    "import numpy as np\r\n",
    "import matplotlib.pyplot as plt\r\n",
    "import cv2"
   ],
   "outputs": [],
   "metadata": {}
  },
  {
   "cell_type": "code",
   "execution_count": 2,
   "source": [
    "file_path = \"D0002060316_00000.mp4\"\r\n",
    "\r\n",
    "video = cv2.VideoCapture(file_path)\r\n",
    "\r\n",
    "\r\n",
    "start_frame = 150\r\n",
    "end_frame = 210\r\n",
    "interval_frames = 5\r\n",
    "i = start_frame + interval_frames\r\n",
    "\r\n",
    "video.set(cv2.CAP_PROP_POS_FRAMES, start_frame)\r\n",
    "ret, prev_frame = video.read()\r\n",
    "\r\n",
    "prev_gray = cv2.cvtColor(prev_frame, cv2.COLOR_RGB2GRAY)\r\n",
    "\r\n",
    "feature_params = {\r\n",
    "  \"maxCorners\": 200,\r\n",
    "  \"qualityLevel\": 0.2,\r\n",
    "  \"minDistance\": 12,\r\n",
    "  \"blockSize\": 12\r\n",
    "}\r\n",
    "p0 = cv2.goodFeaturesToTrack(prev_gray, mask=None, **feature_params)\r\n",
    "\r\n",
    "for p in p0:\r\n",
    "  x,y = p.ravel()\r\n",
    "  cv2.circle(prev_frame, (x,y), 5, (0, 255, 255), -1)\r\n",
    "\r\n",
    "cv2.imshow(prev_frame)"
   ],
   "outputs": [
    {
     "output_type": "error",
     "ename": "error",
     "evalue": "OpenCV(4.5.3) C:\\Users\\runneradmin\\AppData\\Local\\Temp\\pip-req-build-c2l3r8zm\\opencv\\modules\\imgproc\\src\\color.cpp:182: error: (-215:Assertion failed) !_src.empty() in function 'cv::cvtColor'\n",
     "traceback": [
      "\u001b[1;31m---------------------------------------------------------------------------\u001b[0m",
      "\u001b[1;31merror\u001b[0m                                     Traceback (most recent call last)",
      "\u001b[1;32m~\\AppData\\Local\\Temp/ipykernel_34124/1613934881.py\u001b[0m in \u001b[0;36m<module>\u001b[1;34m\u001b[0m\n\u001b[0;32m     12\u001b[0m \u001b[0mret\u001b[0m\u001b[1;33m,\u001b[0m \u001b[0mprev_frame\u001b[0m \u001b[1;33m=\u001b[0m \u001b[0mvideo\u001b[0m\u001b[1;33m.\u001b[0m\u001b[0mread\u001b[0m\u001b[1;33m(\u001b[0m\u001b[1;33m)\u001b[0m\u001b[1;33m\u001b[0m\u001b[1;33m\u001b[0m\u001b[0m\n\u001b[0;32m     13\u001b[0m \u001b[1;33m\u001b[0m\u001b[0m\n\u001b[1;32m---> 14\u001b[1;33m \u001b[0mprev_gray\u001b[0m \u001b[1;33m=\u001b[0m \u001b[0mcv2\u001b[0m\u001b[1;33m.\u001b[0m\u001b[0mcvtColor\u001b[0m\u001b[1;33m(\u001b[0m\u001b[0mprev_frame\u001b[0m\u001b[1;33m,\u001b[0m \u001b[0mcv2\u001b[0m\u001b[1;33m.\u001b[0m\u001b[0mCOLOR_RGB2GRAY\u001b[0m\u001b[1;33m)\u001b[0m\u001b[1;33m\u001b[0m\u001b[1;33m\u001b[0m\u001b[0m\n\u001b[0m\u001b[0;32m     15\u001b[0m \u001b[1;33m\u001b[0m\u001b[0m\n\u001b[0;32m     16\u001b[0m feature_params = {\n",
      "\u001b[1;31merror\u001b[0m: OpenCV(4.5.3) C:\\Users\\runneradmin\\AppData\\Local\\Temp\\pip-req-build-c2l3r8zm\\opencv\\modules\\imgproc\\src\\color.cpp:182: error: (-215:Assertion failed) !_src.empty() in function 'cv::cvtColor'\n"
     ]
    }
   ],
   "metadata": {}
  },
  {
   "cell_type": "code",
   "execution_count": null,
   "source": [
    "# OpticalFlowのパラメータ\r\n",
    "lk_params = {\r\n",
    "    \"winSize\": (15, 15),  # 特徴点の計算に使う周辺領域サイズ\r\n",
    "    \"maxLevel\": 2,  # ピラミッド数 (デフォルト0で、2の場合は1/4の画像まで使われる)\r\n",
    "    \"criteria\": (cv2.TERM_CRITERIA_EPS | cv2.TERM_CRITERIA_COUNT, 10, 0.03)  # 探索アルゴリズムの終了条件\r\n",
    "}\r\n",
    "\r\n",
    "# 可視化用\r\n",
    "color = np.random.randint(0, 255, (200, 3))\r\n",
    "mask = np.zeros_like(prev_frame)\r\n",
    "\r\n",
    "for i in range(start_frame + interval_frames, end_frame + 1, interval_frames):\r\n",
    "    # 次のフレームを取得してグレースケールにする\r\n",
    "    video.set(cv2.CAP_PROP_POS_FRAMES, i)\r\n",
    "    ret, frame = video.read()\r\n",
    "    frame_gray = cv2.cvtColor(frame, cv2.COLOR_RGB2GRAY)\r\n",
    "    \r\n",
    "    # OpticalFlowの計算\r\n",
    "    p1, status, err = cv2.calcOpticalFlowPyrLK(prev_gray, frame_gray, p0, None, **lk_params)\r\n",
    "    \r\n",
    "    # フレーム前後でトラックが成功した特徴点のみを\r\n",
    "    identical_p1 = p1[status==1]\r\n",
    "    identical_p0 = p0[status==1]\r\n",
    "    \r\n",
    "    # 可視化用\r\n",
    "    for i, (p1, p0) in enumerate(zip(identical_p1, identical_p0)):\r\n",
    "        p1_x, p1_y = p1.ravel()\r\n",
    "        p0_x, p0_y = p0.ravel()\r\n",
    "        mask = cv2.line(mask, (p1_x, p1_y), (p0_x, p0_y), color[i].tolist(), 2)\r\n",
    "        frame = cv2.circle(frame, (p1_x, p1_y), 5, color[i].tolist(), -1)\r\n",
    "    \r\n",
    "    # 可視化用の線・円を重ねて表示\r\n",
    "    image = cv2.add(frame, mask)\r\n",
    "    cv2.imshow(image)\r\n",
    "\r\n",
    "    # トラックが成功した特徴点のみを引き継ぐ\r\n",
    "    prev_gray = frame_gray.copy()\r\n",
    "    p0 = identical_p1.reshape(-1, 1, 2)"
   ],
   "outputs": [],
   "metadata": {}
  },
  {
   "cell_type": "code",
   "execution_count": null,
   "source": [],
   "outputs": [],
   "metadata": {}
  }
 ],
 "metadata": {
  "kernelspec": {
   "name": "python3",
   "display_name": "Python 3.7.11 64-bit ('OpenCV': conda)"
  },
  "language_info": {
   "codemirror_mode": {
    "name": "ipython",
    "version": 3
   },
   "file_extension": ".py",
   "mimetype": "text/x-python",
   "name": "python",
   "nbconvert_exporter": "python",
   "pygments_lexer": "ipython3",
   "version": "3.7.11"
  },
  "interpreter": {
   "hash": "8dfb4e20c90e78e714cbc030135bda00556e9ba7dc893fd1a1911c47885388d4"
  }
 },
 "nbformat": 4,
 "nbformat_minor": 5
}